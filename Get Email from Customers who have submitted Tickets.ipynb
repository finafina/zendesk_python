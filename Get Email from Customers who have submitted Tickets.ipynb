{
 "cells": [
  {
   "cell_type": "markdown",
   "metadata": {},
   "source": [
    "#Get Email"
   ]
  },
  {
   "cell_type": "markdown",
   "metadata": {},
   "source": [
    "This report returns the email addresses from customers who have contacted customer service ('custom_fields' value = 'customer_service') in a certain timeframe. Optional slicing by incoming channel."
   ]
  },
  {
   "cell_type": "markdown",
   "metadata": {},
   "source": [
    "### Import Tickets"
   ]
  },
  {
   "cell_type": "code",
   "execution_count": null,
   "metadata": {
    "collapsed": true
   },
   "outputs": [],
   "source": [
    "### Read file where API token is stored\n",
    "token = open('zd_token').read().strip('\\n')\n",
    "email = open('zd_email').read().strip('\\n')\n",
    "subdomain = open('zd_subdomain').read().strip('\\n')"
   ]
  },
  {
   "cell_type": "markdown",
   "metadata": {},
   "source": [
    "Import and save CX tickets in array."
   ]
  },
  {
   "cell_type": "code",
   "execution_count": null,
   "metadata": {
    "collapsed": false
   },
   "outputs": [],
   "source": [
    "from zendesk import Zendesk\n",
    "import datetime\n",
    "import time\n",
    "import json\n",
    "import collections \n",
    "import csv\n",
    "\n",
    "### Zendesk credentials\n",
    "zd = Zendesk(subdomain,\n",
    "             email+'/token',\n",
    "             token) \n",
    "\n",
    "### Set the interval you're interested in\n",
    "### today = datetime.datetime.today().date()\n",
    "### weekStartDate = today\n",
    "### weekEndDate = today\n",
    "\n",
    "weekStartDate = (datetime.datetime.now() - datetime.timedelta(days = 34)).date()\n",
    "weekEndDate = (datetime.datetime.now() - datetime.timedelta(days = 30)).date()\n",
    "\n",
    "print '---------------------------------------------------------------------'\n",
    "print 'START.'\n",
    "print 'Week Start Date:', weekStartDate,'. Week End Date:', weekEndDate, '.'\n",
    "print '---------------------------------------------------------------------'\n",
    "\n",
    "\n",
    "### Build array containing tickets from given time intervall\n",
    "tickets = []\n",
    "\n",
    "try:\n",
    "    pageNumber=1\n",
    "    nextPage = True\n",
    "    while nextPage:\n",
    "        zdresult = zd.search(query='type:ticket created>='+ str(weekStartDate) +' created<=' + str(weekEndDate), page=pageNumber)\n",
    "        print 'Zendesk Result Page Number: ', pageNumber\n",
    "        print zdresult['next_page']\n",
    "        for result in zdresult['results']:\n",
    "            if result['custom_fields'][1]['value'] == 'customer_service': #adjust custom field according to your ticket structure\n",
    "                tickets.append(result)\n",
    "        if zdresult['next_page'] is None:\n",
    "            nextPage=False\n",
    "        else:\n",
    "            nextPage=True\n",
    "            pageNumber += 1\n",
    "except ValueError:\n",
    "    print(ValueError)\n",
    "\n",
    "print '---------------------------------------------------------------------'    \n",
    "print 'Tickets array length:', len(tickets) , '.'\n",
    "print 'DONE.'\n",
    "print '---------------------------------------------------------------------'"
   ]
  },
  {
   "cell_type": "markdown",
   "metadata": {},
   "source": [
    "## Use Print method below that suits best:"
   ]
  },
  {
   "cell_type": "markdown",
   "metadata": {},
   "source": [
    "### 1) Print Emails (All Channels)"
   ]
  },
  {
   "cell_type": "code",
   "execution_count": null,
   "metadata": {
    "collapsed": true
   },
   "outputs": [],
   "source": [
    "requesterArr = []\n",
    "noEmail = 0\n",
    "\n",
    "print '---------------------------------------------------------------------'\n",
    "print 'START.'\n",
    "print '---------------------------------------------------------------------'\n",
    "\n",
    "try:\n",
    "    for ticket in tickets:\n",
    "        ticketID = ticket['id']\n",
    "        source = ticket['custom_fields'][9]['value'] #adjust custom field according to your ticket structure\n",
    "        requesterID = ticket['requester_id'] \n",
    "        zdresult = zd.search(query='type:ticket user:'+ str(requesterID))\n",
    "        email = zdresult['results'][0]['email']\n",
    "        if (email is not None):\n",
    "            requesterArr.append([ticketID,email,channel])\n",
    "#             print 'ticket: ',  ticketID, ',',email , ',', channel            \n",
    "            print (\"'%s',\" % email)\n",
    "        elif:\n",
    "            noEmail+=1;\n",
    "                \n",
    "except ValueError:\n",
    "    print(\"Error!\")\n",
    "\n",
    "print '---------------------------------------------------------------------'    \n",
    "print 'Length: ', len(requesterArr) , ', no email: ', noEmail , '.'\n",
    "print 'DONE.'\n",
    "print '---------------------------------------------------------------------'"
   ]
  },
  {
   "cell_type": "markdown",
   "metadata": {},
   "source": [
    "###2) Print Emails (Channel: Voice)"
   ]
  },
  {
   "cell_type": "code",
   "execution_count": null,
   "metadata": {
    "collapsed": false
   },
   "outputs": [],
   "source": [
    "requesterArr = []\n",
    "callNoEmail = 0\n",
    "\n",
    "print '---------------------------------------------------------------------'\n",
    "print 'START.'\n",
    "print '---------------------------------------------------------------------'\n",
    "\n",
    "try:\n",
    "    for ticket in tickets:\n",
    "        channel = ticket['via']['channel']\n",
    "        ticketID = ticket['id']\n",
    "        source = ticket['custom_fields'][9]['value'] #adjust custom field according to your ticket structure\n",
    "        requesterID = ticket['requester_id'] \n",
    "        zdresult = zd.search(query='type:ticket user:'+ str(requesterID))\n",
    "        email = zdresult['results'][0]['email']\n",
    "        if (email is not None) and (channel =='voice'):\n",
    "            requesterArr.append([ticketID,email,channel])\n",
    "#             print 'ticket: ',  ticketID, ',',email , ',', channel\n",
    "            print (\"'%s',\" % email)\n",
    "        elif (channel =='voice'):\n",
    "            callNoEmail+=1;\n",
    "                \n",
    "except ValueError:\n",
    "    print(\"Error!\")\n",
    "\n",
    "print '---------------------------------------------------------------------'\n",
    "print 'Length: ', len(requesterArr) , ', call but no email: ', callNoEmail, '.'\n",
    "print 'DONE.'\n",
    "print '---------------------------------------------------------------------'\n"
   ]
  },
  {
   "cell_type": "markdown",
   "metadata": {},
   "source": [
    "###3) Print Emails (Channels: All minus Voice)"
   ]
  },
  {
   "cell_type": "code",
   "execution_count": null,
   "metadata": {
    "collapsed": false
   },
   "outputs": [],
   "source": [
    "requesterArr = []\n",
    "noEmail = 0\n",
    "\n",
    "print '---------------------------------------------------------------------'\n",
    "print 'START.'\n",
    "print '---------------------------------------------------------------------'\n",
    "\n",
    "try:\n",
    "    for ticket in tickets:\n",
    "        channel = ticket['via']['channel']\n",
    "        ticketID = ticket['id']\n",
    "        source = ticket['custom_fields'][9]['value'] #adjust custom field according to your ticket structure\n",
    "        requesterID = ticket['requester_id'] \n",
    "        zdresult = zd.search(query='type:ticket user:'+ str(requesterID))\n",
    "        email = zdresult['results'][0]['email']\n",
    "        if (email is not None) and (channel !='voice'):\n",
    "            requesterArr.append([ticketID,email,channel])\n",
    "#             print 'ticket: ',  ticketID, ',',email , ',', channel            \n",
    "            print (\"'%s',\" % email)\n",
    "        elif (channel !='voice'):\n",
    "            noEmail+=1;\n",
    "                \n",
    "except ValueError:\n",
    "    print(\"Error!\")\n",
    "\n",
    "print '---------------------------------------------------------------------'\n",
    "print 'Length: ', len(requesterArr) , ', no email: ', noEmail, '.'\n",
    "print 'DONE.'\n",
    "print '---------------------------------------------------------------------'"
   ]
  },
  {
   "cell_type": "code",
   "execution_count": null,
   "metadata": {
    "collapsed": true
   },
   "outputs": [],
   "source": []
  }
 ],
 "metadata": {
  "kernelspec": {
   "display_name": "Python 2",
   "language": "python",
   "name": "python2"
  },
  "language_info": {
   "codemirror_mode": {
    "name": "ipython",
    "version": 2
   },
   "file_extension": ".py",
   "mimetype": "text/x-python",
   "name": "python",
   "nbconvert_exporter": "python",
   "pygments_lexer": "ipython2",
   "version": "2.7.10"
  }
 },
 "nbformat": 4,
 "nbformat_minor": 0
}
